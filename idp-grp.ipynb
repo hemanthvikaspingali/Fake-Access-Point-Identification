{
 "cells": [
  {
   "cell_type": "code",
   "execution_count": 1,
   "id": "8967dc29",
   "metadata": {
    "execution": {
     "iopub.execute_input": "2024-05-24T14:17:40.030821Z",
     "iopub.status.busy": "2024-05-24T14:17:40.030386Z",
     "iopub.status.idle": "2024-05-24T14:17:41.122407Z",
     "shell.execute_reply": "2024-05-24T14:17:41.121166Z"
    },
    "papermill": {
     "duration": 1.105087,
     "end_time": "2024-05-24T14:17:41.125324",
     "exception": false,
     "start_time": "2024-05-24T14:17:40.020237",
     "status": "completed"
    },
    "tags": []
   },
   "outputs": [],
   "source": [
    "import numpy as np\n",
    "import pandas as pd"
   ]
  },
  {
   "cell_type": "code",
   "execution_count": 2,
   "id": "673d2647",
   "metadata": {
    "execution": {
     "iopub.execute_input": "2024-05-24T14:17:41.146870Z",
     "iopub.status.busy": "2024-05-24T14:17:41.145209Z",
     "iopub.status.idle": "2024-05-24T14:17:41.169642Z",
     "shell.execute_reply": "2024-05-24T14:17:41.168338Z"
    },
    "papermill": {
     "duration": 0.038396,
     "end_time": "2024-05-24T14:17:41.172698",
     "exception": false,
     "start_time": "2024-05-24T14:17:41.134302",
     "status": "completed"
    },
    "tags": []
   },
   "outputs": [],
   "source": [
    "data=pd.read_csv(\"/kaggle/input/clgproject/clg-proj-dataset (1).csv\")"
   ]
  },
  {
   "cell_type": "code",
   "execution_count": 3,
   "id": "ff24ec72",
   "metadata": {
    "execution": {
     "iopub.execute_input": "2024-05-24T14:17:41.191785Z",
     "iopub.status.busy": "2024-05-24T14:17:41.191391Z",
     "iopub.status.idle": "2024-05-24T14:17:41.222763Z",
     "shell.execute_reply": "2024-05-24T14:17:41.221367Z"
    },
    "papermill": {
     "duration": 0.044409,
     "end_time": "2024-05-24T14:17:41.225341",
     "exception": false,
     "start_time": "2024-05-24T14:17:41.180932",
     "status": "completed"
    },
    "tags": []
   },
   "outputs": [
    {
     "data": {
      "text/html": [
       "<div>\n",
       "<style scoped>\n",
       "    .dataframe tbody tr th:only-of-type {\n",
       "        vertical-align: middle;\n",
       "    }\n",
       "\n",
       "    .dataframe tbody tr th {\n",
       "        vertical-align: top;\n",
       "    }\n",
       "\n",
       "    .dataframe thead th {\n",
       "        text-align: right;\n",
       "    }\n",
       "</style>\n",
       "<table border=\"1\" class=\"dataframe\">\n",
       "  <thead>\n",
       "    <tr style=\"text-align: right;\">\n",
       "      <th></th>\n",
       "      <th>SSID</th>\n",
       "      <th>MACAddress</th>\n",
       "      <th>Manufacturer</th>\n",
       "      <th>Label</th>\n",
       "      <th>Unnamed: 4</th>\n",
       "    </tr>\n",
       "  </thead>\n",
       "  <tbody>\n",
       "    <tr>\n",
       "      <th>0</th>\n",
       "      <td>VIGNAN'S-WIFI</td>\n",
       "      <td>8c:fe:74:12:4f:08</td>\n",
       "      <td>Rucks Wir</td>\n",
       "      <td>Genuine</td>\n",
       "      <td>NaN</td>\n",
       "    </tr>\n",
       "    <tr>\n",
       "      <th>1</th>\n",
       "      <td>TechHub-WiFi</td>\n",
       "      <td>4f:aa:92:37:ed:1f</td>\n",
       "      <td>Innovix Networks</td>\n",
       "      <td>Fake</td>\n",
       "      <td>NaN</td>\n",
       "    </tr>\n",
       "    <tr>\n",
       "      <th>2</th>\n",
       "      <td>CyberLab-WiFi</td>\n",
       "      <td>6d:bc:81:ef:23:4a</td>\n",
       "      <td>NetPulse Solutions</td>\n",
       "      <td>Fake</td>\n",
       "      <td>NaN</td>\n",
       "    </tr>\n",
       "    <tr>\n",
       "      <th>3</th>\n",
       "      <td>VIGNAN'S-WIFI</td>\n",
       "      <td>8c:fe:74:12:4e:38</td>\n",
       "      <td>Rucks Wir</td>\n",
       "      <td>Genuine</td>\n",
       "      <td>NaN</td>\n",
       "    </tr>\n",
       "    <tr>\n",
       "      <th>4</th>\n",
       "      <td>VIGNAN'S-WIFI</td>\n",
       "      <td>ec:58:ea:08:a5:78</td>\n",
       "      <td>Rucks Wir</td>\n",
       "      <td>Genuine</td>\n",
       "      <td>NaN</td>\n",
       "    </tr>\n",
       "    <tr>\n",
       "      <th>...</th>\n",
       "      <td>...</td>\n",
       "      <td>...</td>\n",
       "      <td>...</td>\n",
       "      <td>...</td>\n",
       "      <td>...</td>\n",
       "    </tr>\n",
       "    <tr>\n",
       "      <th>153</th>\n",
       "      <td>VGNAN'S-WFI</td>\n",
       "      <td>8c:fe:74:c3:ef:34</td>\n",
       "      <td>Rucks Wir</td>\n",
       "      <td>Genuine</td>\n",
       "      <td>NaN</td>\n",
       "    </tr>\n",
       "    <tr>\n",
       "      <th>154</th>\n",
       "      <td>VGNAN'S-WFI</td>\n",
       "      <td>8c:fe:74:c3:d7:f5</td>\n",
       "      <td>Rucks Wir</td>\n",
       "      <td>Genuine</td>\n",
       "      <td>NaN</td>\n",
       "    </tr>\n",
       "    <tr>\n",
       "      <th>155</th>\n",
       "      <td>DreamWeaver</td>\n",
       "      <td>2F:3E:4D:5C:6B:7A</td>\n",
       "      <td>Intel Corporation</td>\n",
       "      <td>Fake</td>\n",
       "      <td>NaN</td>\n",
       "    </tr>\n",
       "    <tr>\n",
       "      <th>156</th>\n",
       "      <td>VGNAN'S-WFI</td>\n",
       "      <td>8c:fe:74:c1:ef:d0</td>\n",
       "      <td>Rucks Wir</td>\n",
       "      <td>Genuine</td>\n",
       "      <td>NaN</td>\n",
       "    </tr>\n",
       "    <tr>\n",
       "      <th>157</th>\n",
       "      <td>VGNAN'S-WFI</td>\n",
       "      <td>8c:fe:74:c1:6f:60</td>\n",
       "      <td>Rucks Wir</td>\n",
       "      <td>Genuine</td>\n",
       "      <td>NaN</td>\n",
       "    </tr>\n",
       "  </tbody>\n",
       "</table>\n",
       "<p>158 rows × 5 columns</p>\n",
       "</div>"
      ],
      "text/plain": [
       "              SSID          MACAddress        Manufacturer    Label  \\\n",
       "0    VIGNAN'S-WIFI   8c:fe:74:12:4f:08           Rucks Wir  Genuine   \n",
       "1     TechHub-WiFi   4f:aa:92:37:ed:1f    Innovix Networks     Fake   \n",
       "2    CyberLab-WiFi   6d:bc:81:ef:23:4a  NetPulse Solutions     Fake   \n",
       "3    VIGNAN'S-WIFI   8c:fe:74:12:4e:38           Rucks Wir  Genuine   \n",
       "4    VIGNAN'S-WIFI   ec:58:ea:08:a5:78           Rucks Wir  Genuine   \n",
       "..             ...                 ...                 ...      ...   \n",
       "153    VGNAN'S-WFI   8c:fe:74:c3:ef:34           Rucks Wir  Genuine   \n",
       "154    VGNAN'S-WFI   8c:fe:74:c3:d7:f5           Rucks Wir  Genuine   \n",
       "155    DreamWeaver  2F:3E:4D:5C:6B:7A    Intel Corporation     Fake   \n",
       "156    VGNAN'S-WFI   8c:fe:74:c1:ef:d0           Rucks Wir  Genuine   \n",
       "157    VGNAN'S-WFI   8c:fe:74:c1:6f:60           Rucks Wir  Genuine   \n",
       "\n",
       "     Unnamed: 4  \n",
       "0           NaN  \n",
       "1           NaN  \n",
       "2           NaN  \n",
       "3           NaN  \n",
       "4           NaN  \n",
       "..          ...  \n",
       "153         NaN  \n",
       "154         NaN  \n",
       "155         NaN  \n",
       "156         NaN  \n",
       "157         NaN  \n",
       "\n",
       "[158 rows x 5 columns]"
      ]
     },
     "execution_count": 3,
     "metadata": {},
     "output_type": "execute_result"
    }
   ],
   "source": [
    "data"
   ]
  },
  {
   "cell_type": "code",
   "execution_count": 4,
   "id": "41cb3f31",
   "metadata": {
    "execution": {
     "iopub.execute_input": "2024-05-24T14:17:41.244214Z",
     "iopub.status.busy": "2024-05-24T14:17:41.243795Z",
     "iopub.status.idle": "2024-05-24T14:17:41.252595Z",
     "shell.execute_reply": "2024-05-24T14:17:41.251507Z"
    },
    "papermill": {
     "duration": 0.021411,
     "end_time": "2024-05-24T14:17:41.255233",
     "exception": false,
     "start_time": "2024-05-24T14:17:41.233822",
     "status": "completed"
    },
    "tags": []
   },
   "outputs": [],
   "source": [
    "data=data.drop(\"Unnamed: 4\",axis=1)"
   ]
  },
  {
   "cell_type": "code",
   "execution_count": 5,
   "id": "2900c125",
   "metadata": {
    "execution": {
     "iopub.execute_input": "2024-05-24T14:17:41.274569Z",
     "iopub.status.busy": "2024-05-24T14:17:41.273887Z",
     "iopub.status.idle": "2024-05-24T14:17:41.289673Z",
     "shell.execute_reply": "2024-05-24T14:17:41.288474Z"
    },
    "papermill": {
     "duration": 0.028929,
     "end_time": "2024-05-24T14:17:41.292634",
     "exception": false,
     "start_time": "2024-05-24T14:17:41.263705",
     "status": "completed"
    },
    "tags": []
   },
   "outputs": [],
   "source": [
    "data.drop_duplicates(inplace=True)"
   ]
  },
  {
   "cell_type": "code",
   "execution_count": 6,
   "id": "c5935a32",
   "metadata": {
    "execution": {
     "iopub.execute_input": "2024-05-24T14:17:41.311833Z",
     "iopub.status.busy": "2024-05-24T14:17:41.311451Z",
     "iopub.status.idle": "2024-05-24T14:17:41.325897Z",
     "shell.execute_reply": "2024-05-24T14:17:41.324833Z"
    },
    "papermill": {
     "duration": 0.027142,
     "end_time": "2024-05-24T14:17:41.328235",
     "exception": false,
     "start_time": "2024-05-24T14:17:41.301093",
     "status": "completed"
    },
    "tags": []
   },
   "outputs": [
    {
     "data": {
      "text/html": [
       "<div>\n",
       "<style scoped>\n",
       "    .dataframe tbody tr th:only-of-type {\n",
       "        vertical-align: middle;\n",
       "    }\n",
       "\n",
       "    .dataframe tbody tr th {\n",
       "        vertical-align: top;\n",
       "    }\n",
       "\n",
       "    .dataframe thead th {\n",
       "        text-align: right;\n",
       "    }\n",
       "</style>\n",
       "<table border=\"1\" class=\"dataframe\">\n",
       "  <thead>\n",
       "    <tr style=\"text-align: right;\">\n",
       "      <th></th>\n",
       "      <th>SSID</th>\n",
       "      <th>MACAddress</th>\n",
       "      <th>Manufacturer</th>\n",
       "      <th>Label</th>\n",
       "    </tr>\n",
       "  </thead>\n",
       "  <tbody>\n",
       "    <tr>\n",
       "      <th>0</th>\n",
       "      <td>VIGNAN'S-WIFI</td>\n",
       "      <td>8c:fe:74:12:4f:08</td>\n",
       "      <td>Rucks Wir</td>\n",
       "      <td>Genuine</td>\n",
       "    </tr>\n",
       "    <tr>\n",
       "      <th>1</th>\n",
       "      <td>TechHub-WiFi</td>\n",
       "      <td>4f:aa:92:37:ed:1f</td>\n",
       "      <td>Innovix Networks</td>\n",
       "      <td>Fake</td>\n",
       "    </tr>\n",
       "    <tr>\n",
       "      <th>2</th>\n",
       "      <td>CyberLab-WiFi</td>\n",
       "      <td>6d:bc:81:ef:23:4a</td>\n",
       "      <td>NetPulse Solutions</td>\n",
       "      <td>Fake</td>\n",
       "    </tr>\n",
       "    <tr>\n",
       "      <th>3</th>\n",
       "      <td>VIGNAN'S-WIFI</td>\n",
       "      <td>8c:fe:74:12:4e:38</td>\n",
       "      <td>Rucks Wir</td>\n",
       "      <td>Genuine</td>\n",
       "    </tr>\n",
       "    <tr>\n",
       "      <th>4</th>\n",
       "      <td>VIGNAN'S-WIFI</td>\n",
       "      <td>ec:58:ea:08:a5:78</td>\n",
       "      <td>Rucks Wir</td>\n",
       "      <td>Genuine</td>\n",
       "    </tr>\n",
       "    <tr>\n",
       "      <th>...</th>\n",
       "      <td>...</td>\n",
       "      <td>...</td>\n",
       "      <td>...</td>\n",
       "      <td>...</td>\n",
       "    </tr>\n",
       "    <tr>\n",
       "      <th>153</th>\n",
       "      <td>VGNAN'S-WFI</td>\n",
       "      <td>8c:fe:74:c3:ef:34</td>\n",
       "      <td>Rucks Wir</td>\n",
       "      <td>Genuine</td>\n",
       "    </tr>\n",
       "    <tr>\n",
       "      <th>154</th>\n",
       "      <td>VGNAN'S-WFI</td>\n",
       "      <td>8c:fe:74:c3:d7:f5</td>\n",
       "      <td>Rucks Wir</td>\n",
       "      <td>Genuine</td>\n",
       "    </tr>\n",
       "    <tr>\n",
       "      <th>155</th>\n",
       "      <td>DreamWeaver</td>\n",
       "      <td>2F:3E:4D:5C:6B:7A</td>\n",
       "      <td>Intel Corporation</td>\n",
       "      <td>Fake</td>\n",
       "    </tr>\n",
       "    <tr>\n",
       "      <th>156</th>\n",
       "      <td>VGNAN'S-WFI</td>\n",
       "      <td>8c:fe:74:c1:ef:d0</td>\n",
       "      <td>Rucks Wir</td>\n",
       "      <td>Genuine</td>\n",
       "    </tr>\n",
       "    <tr>\n",
       "      <th>157</th>\n",
       "      <td>VGNAN'S-WFI</td>\n",
       "      <td>8c:fe:74:c1:6f:60</td>\n",
       "      <td>Rucks Wir</td>\n",
       "      <td>Genuine</td>\n",
       "    </tr>\n",
       "  </tbody>\n",
       "</table>\n",
       "<p>149 rows × 4 columns</p>\n",
       "</div>"
      ],
      "text/plain": [
       "              SSID          MACAddress        Manufacturer    Label\n",
       "0    VIGNAN'S-WIFI   8c:fe:74:12:4f:08           Rucks Wir  Genuine\n",
       "1     TechHub-WiFi   4f:aa:92:37:ed:1f    Innovix Networks     Fake\n",
       "2    CyberLab-WiFi   6d:bc:81:ef:23:4a  NetPulse Solutions     Fake\n",
       "3    VIGNAN'S-WIFI   8c:fe:74:12:4e:38           Rucks Wir  Genuine\n",
       "4    VIGNAN'S-WIFI   ec:58:ea:08:a5:78           Rucks Wir  Genuine\n",
       "..             ...                 ...                 ...      ...\n",
       "153    VGNAN'S-WFI   8c:fe:74:c3:ef:34           Rucks Wir  Genuine\n",
       "154    VGNAN'S-WFI   8c:fe:74:c3:d7:f5           Rucks Wir  Genuine\n",
       "155    DreamWeaver  2F:3E:4D:5C:6B:7A    Intel Corporation     Fake\n",
       "156    VGNAN'S-WFI   8c:fe:74:c1:ef:d0           Rucks Wir  Genuine\n",
       "157    VGNAN'S-WFI   8c:fe:74:c1:6f:60           Rucks Wir  Genuine\n",
       "\n",
       "[149 rows x 4 columns]"
      ]
     },
     "execution_count": 6,
     "metadata": {},
     "output_type": "execute_result"
    }
   ],
   "source": [
    "data"
   ]
  },
  {
   "cell_type": "code",
   "execution_count": 7,
   "id": "34a52a53",
   "metadata": {
    "execution": {
     "iopub.execute_input": "2024-05-24T14:17:41.348239Z",
     "iopub.status.busy": "2024-05-24T14:17:41.347069Z",
     "iopub.status.idle": "2024-05-24T14:17:42.900983Z",
     "shell.execute_reply": "2024-05-24T14:17:42.899541Z"
    },
    "papermill": {
     "duration": 1.566852,
     "end_time": "2024-05-24T14:17:42.903865",
     "exception": false,
     "start_time": "2024-05-24T14:17:41.337013",
     "status": "completed"
    },
    "tags": []
   },
   "outputs": [],
   "source": [
    "from sklearn.preprocessing import LabelEncoder,StandardScaler"
   ]
  },
  {
   "cell_type": "code",
   "execution_count": 8,
   "id": "521e3e02",
   "metadata": {
    "execution": {
     "iopub.execute_input": "2024-05-24T14:17:42.923428Z",
     "iopub.status.busy": "2024-05-24T14:17:42.922983Z",
     "iopub.status.idle": "2024-05-24T14:17:42.930830Z",
     "shell.execute_reply": "2024-05-24T14:17:42.929412Z"
    },
    "papermill": {
     "duration": 0.020519,
     "end_time": "2024-05-24T14:17:42.933234",
     "exception": false,
     "start_time": "2024-05-24T14:17:42.912715",
     "status": "completed"
    },
    "tags": []
   },
   "outputs": [],
   "source": [
    "label_encoder=LabelEncoder()\n",
    "data['SSID'] = label_encoder.fit_transform(data['SSID'])\n",
    "#data['Manufacturer'] = label_encoder.fit_transform(data['Manufacturer'])\n",
    "data['Label'] = label_encoder.fit_transform(data['Label'])"
   ]
  },
  {
   "cell_type": "code",
   "execution_count": 9,
   "id": "fd97637d",
   "metadata": {
    "execution": {
     "iopub.execute_input": "2024-05-24T14:17:42.953425Z",
     "iopub.status.busy": "2024-05-24T14:17:42.952744Z",
     "iopub.status.idle": "2024-05-24T14:17:42.967494Z",
     "shell.execute_reply": "2024-05-24T14:17:42.965954Z"
    },
    "papermill": {
     "duration": 0.027742,
     "end_time": "2024-05-24T14:17:42.970054",
     "exception": false,
     "start_time": "2024-05-24T14:17:42.942312",
     "status": "completed"
    },
    "tags": []
   },
   "outputs": [
    {
     "data": {
      "text/html": [
       "<div>\n",
       "<style scoped>\n",
       "    .dataframe tbody tr th:only-of-type {\n",
       "        vertical-align: middle;\n",
       "    }\n",
       "\n",
       "    .dataframe tbody tr th {\n",
       "        vertical-align: top;\n",
       "    }\n",
       "\n",
       "    .dataframe thead th {\n",
       "        text-align: right;\n",
       "    }\n",
       "</style>\n",
       "<table border=\"1\" class=\"dataframe\">\n",
       "  <thead>\n",
       "    <tr style=\"text-align: right;\">\n",
       "      <th></th>\n",
       "      <th>SSID</th>\n",
       "      <th>MACAddress</th>\n",
       "      <th>Manufacturer</th>\n",
       "      <th>Label</th>\n",
       "    </tr>\n",
       "  </thead>\n",
       "  <tbody>\n",
       "    <tr>\n",
       "      <th>0</th>\n",
       "      <td>35</td>\n",
       "      <td>8c:fe:74:12:4f:08</td>\n",
       "      <td>Rucks Wir</td>\n",
       "      <td>1</td>\n",
       "    </tr>\n",
       "    <tr>\n",
       "      <th>1</th>\n",
       "      <td>27</td>\n",
       "      <td>4f:aa:92:37:ed:1f</td>\n",
       "      <td>Innovix Networks</td>\n",
       "      <td>0</td>\n",
       "    </tr>\n",
       "    <tr>\n",
       "      <th>2</th>\n",
       "      <td>5</td>\n",
       "      <td>6d:bc:81:ef:23:4a</td>\n",
       "      <td>NetPulse Solutions</td>\n",
       "      <td>0</td>\n",
       "    </tr>\n",
       "    <tr>\n",
       "      <th>3</th>\n",
       "      <td>35</td>\n",
       "      <td>8c:fe:74:12:4e:38</td>\n",
       "      <td>Rucks Wir</td>\n",
       "      <td>1</td>\n",
       "    </tr>\n",
       "    <tr>\n",
       "      <th>4</th>\n",
       "      <td>35</td>\n",
       "      <td>ec:58:ea:08:a5:78</td>\n",
       "      <td>Rucks Wir</td>\n",
       "      <td>1</td>\n",
       "    </tr>\n",
       "    <tr>\n",
       "      <th>...</th>\n",
       "      <td>...</td>\n",
       "      <td>...</td>\n",
       "      <td>...</td>\n",
       "      <td>...</td>\n",
       "    </tr>\n",
       "    <tr>\n",
       "      <th>153</th>\n",
       "      <td>34</td>\n",
       "      <td>8c:fe:74:c3:ef:34</td>\n",
       "      <td>Rucks Wir</td>\n",
       "      <td>1</td>\n",
       "    </tr>\n",
       "    <tr>\n",
       "      <th>154</th>\n",
       "      <td>34</td>\n",
       "      <td>8c:fe:74:c3:d7:f5</td>\n",
       "      <td>Rucks Wir</td>\n",
       "      <td>1</td>\n",
       "    </tr>\n",
       "    <tr>\n",
       "      <th>155</th>\n",
       "      <td>7</td>\n",
       "      <td>2F:3E:4D:5C:6B:7A</td>\n",
       "      <td>Intel Corporation</td>\n",
       "      <td>0</td>\n",
       "    </tr>\n",
       "    <tr>\n",
       "      <th>156</th>\n",
       "      <td>34</td>\n",
       "      <td>8c:fe:74:c1:ef:d0</td>\n",
       "      <td>Rucks Wir</td>\n",
       "      <td>1</td>\n",
       "    </tr>\n",
       "    <tr>\n",
       "      <th>157</th>\n",
       "      <td>34</td>\n",
       "      <td>8c:fe:74:c1:6f:60</td>\n",
       "      <td>Rucks Wir</td>\n",
       "      <td>1</td>\n",
       "    </tr>\n",
       "  </tbody>\n",
       "</table>\n",
       "<p>149 rows × 4 columns</p>\n",
       "</div>"
      ],
      "text/plain": [
       "     SSID          MACAddress        Manufacturer  Label\n",
       "0      35   8c:fe:74:12:4f:08           Rucks Wir      1\n",
       "1      27   4f:aa:92:37:ed:1f    Innovix Networks      0\n",
       "2       5   6d:bc:81:ef:23:4a  NetPulse Solutions      0\n",
       "3      35   8c:fe:74:12:4e:38           Rucks Wir      1\n",
       "4      35   ec:58:ea:08:a5:78           Rucks Wir      1\n",
       "..    ...                 ...                 ...    ...\n",
       "153    34   8c:fe:74:c3:ef:34           Rucks Wir      1\n",
       "154    34   8c:fe:74:c3:d7:f5           Rucks Wir      1\n",
       "155     7  2F:3E:4D:5C:6B:7A    Intel Corporation      0\n",
       "156    34   8c:fe:74:c1:ef:d0           Rucks Wir      1\n",
       "157    34   8c:fe:74:c1:6f:60           Rucks Wir      1\n",
       "\n",
       "[149 rows x 4 columns]"
      ]
     },
     "execution_count": 9,
     "metadata": {},
     "output_type": "execute_result"
    }
   ],
   "source": [
    "data"
   ]
  },
  {
   "cell_type": "code",
   "execution_count": 10,
   "id": "369018ca",
   "metadata": {
    "execution": {
     "iopub.execute_input": "2024-05-24T14:17:42.991032Z",
     "iopub.status.busy": "2024-05-24T14:17:42.990582Z",
     "iopub.status.idle": "2024-05-24T14:17:43.005721Z",
     "shell.execute_reply": "2024-05-24T14:17:43.004093Z"
    },
    "papermill": {
     "duration": 0.029178,
     "end_time": "2024-05-24T14:17:43.008463",
     "exception": false,
     "start_time": "2024-05-24T14:17:42.979285",
     "status": "completed"
    },
    "tags": []
   },
   "outputs": [
    {
     "data": {
      "text/html": [
       "<div>\n",
       "<style scoped>\n",
       "    .dataframe tbody tr th:only-of-type {\n",
       "        vertical-align: middle;\n",
       "    }\n",
       "\n",
       "    .dataframe tbody tr th {\n",
       "        vertical-align: top;\n",
       "    }\n",
       "\n",
       "    .dataframe thead th {\n",
       "        text-align: right;\n",
       "    }\n",
       "</style>\n",
       "<table border=\"1\" class=\"dataframe\">\n",
       "  <thead>\n",
       "    <tr style=\"text-align: right;\">\n",
       "      <th></th>\n",
       "      <th>SSID</th>\n",
       "      <th>MACAddress</th>\n",
       "      <th>Manufacturer</th>\n",
       "      <th>Label</th>\n",
       "    </tr>\n",
       "  </thead>\n",
       "  <tbody>\n",
       "    <tr>\n",
       "      <th>0</th>\n",
       "      <td>35</td>\n",
       "      <td>8c:fe:74:12:4f:08</td>\n",
       "      <td>Rucks Wir</td>\n",
       "      <td>1</td>\n",
       "    </tr>\n",
       "    <tr>\n",
       "      <th>1</th>\n",
       "      <td>27</td>\n",
       "      <td>4f:aa:92:37:ed:1f</td>\n",
       "      <td>Innovix Networks</td>\n",
       "      <td>0</td>\n",
       "    </tr>\n",
       "    <tr>\n",
       "      <th>2</th>\n",
       "      <td>5</td>\n",
       "      <td>6d:bc:81:ef:23:4a</td>\n",
       "      <td>NetPulse Solutions</td>\n",
       "      <td>0</td>\n",
       "    </tr>\n",
       "    <tr>\n",
       "      <th>3</th>\n",
       "      <td>35</td>\n",
       "      <td>8c:fe:74:12:4e:38</td>\n",
       "      <td>Rucks Wir</td>\n",
       "      <td>1</td>\n",
       "    </tr>\n",
       "    <tr>\n",
       "      <th>4</th>\n",
       "      <td>35</td>\n",
       "      <td>ec:58:ea:08:a5:78</td>\n",
       "      <td>Rucks Wir</td>\n",
       "      <td>1</td>\n",
       "    </tr>\n",
       "    <tr>\n",
       "      <th>...</th>\n",
       "      <td>...</td>\n",
       "      <td>...</td>\n",
       "      <td>...</td>\n",
       "      <td>...</td>\n",
       "    </tr>\n",
       "    <tr>\n",
       "      <th>153</th>\n",
       "      <td>34</td>\n",
       "      <td>8c:fe:74:c3:ef:34</td>\n",
       "      <td>Rucks Wir</td>\n",
       "      <td>1</td>\n",
       "    </tr>\n",
       "    <tr>\n",
       "      <th>154</th>\n",
       "      <td>34</td>\n",
       "      <td>8c:fe:74:c3:d7:f5</td>\n",
       "      <td>Rucks Wir</td>\n",
       "      <td>1</td>\n",
       "    </tr>\n",
       "    <tr>\n",
       "      <th>155</th>\n",
       "      <td>7</td>\n",
       "      <td>2F:3E:4D:5C:6B:7A</td>\n",
       "      <td>Intel Corporation</td>\n",
       "      <td>0</td>\n",
       "    </tr>\n",
       "    <tr>\n",
       "      <th>156</th>\n",
       "      <td>34</td>\n",
       "      <td>8c:fe:74:c1:ef:d0</td>\n",
       "      <td>Rucks Wir</td>\n",
       "      <td>1</td>\n",
       "    </tr>\n",
       "    <tr>\n",
       "      <th>157</th>\n",
       "      <td>34</td>\n",
       "      <td>8c:fe:74:c1:6f:60</td>\n",
       "      <td>Rucks Wir</td>\n",
       "      <td>1</td>\n",
       "    </tr>\n",
       "  </tbody>\n",
       "</table>\n",
       "<p>149 rows × 4 columns</p>\n",
       "</div>"
      ],
      "text/plain": [
       "     SSID          MACAddress        Manufacturer  Label\n",
       "0      35   8c:fe:74:12:4f:08           Rucks Wir      1\n",
       "1      27   4f:aa:92:37:ed:1f    Innovix Networks      0\n",
       "2       5   6d:bc:81:ef:23:4a  NetPulse Solutions      0\n",
       "3      35   8c:fe:74:12:4e:38           Rucks Wir      1\n",
       "4      35   ec:58:ea:08:a5:78           Rucks Wir      1\n",
       "..    ...                 ...                 ...    ...\n",
       "153    34   8c:fe:74:c3:ef:34           Rucks Wir      1\n",
       "154    34   8c:fe:74:c3:d7:f5           Rucks Wir      1\n",
       "155     7  2F:3E:4D:5C:6B:7A    Intel Corporation      0\n",
       "156    34   8c:fe:74:c1:ef:d0           Rucks Wir      1\n",
       "157    34   8c:fe:74:c1:6f:60           Rucks Wir      1\n",
       "\n",
       "[149 rows x 4 columns]"
      ]
     },
     "execution_count": 10,
     "metadata": {},
     "output_type": "execute_result"
    }
   ],
   "source": [
    "data"
   ]
  },
  {
   "cell_type": "code",
   "execution_count": 11,
   "id": "e8a96942",
   "metadata": {
    "execution": {
     "iopub.execute_input": "2024-05-24T14:17:43.029748Z",
     "iopub.status.busy": "2024-05-24T14:17:43.029362Z",
     "iopub.status.idle": "2024-05-24T14:17:43.034397Z",
     "shell.execute_reply": "2024-05-24T14:17:43.033339Z"
    },
    "papermill": {
     "duration": 0.018557,
     "end_time": "2024-05-24T14:17:43.036827",
     "exception": false,
     "start_time": "2024-05-24T14:17:43.018270",
     "status": "completed"
    },
    "tags": []
   },
   "outputs": [],
   "source": [
    "whitelist_companies = ['Arista', 'Ruckus Wir','Cambium S']"
   ]
  },
  {
   "cell_type": "code",
   "execution_count": 12,
   "id": "efbf4a12",
   "metadata": {
    "execution": {
     "iopub.execute_input": "2024-05-24T14:17:43.058518Z",
     "iopub.status.busy": "2024-05-24T14:17:43.058144Z",
     "iopub.status.idle": "2024-05-24T14:17:43.064889Z",
     "shell.execute_reply": "2024-05-24T14:17:43.064003Z"
    },
    "papermill": {
     "duration": 0.020391,
     "end_time": "2024-05-24T14:17:43.067771",
     "exception": false,
     "start_time": "2024-05-24T14:17:43.047380",
     "status": "completed"
    },
    "tags": []
   },
   "outputs": [],
   "source": [
    "data['Vendor_OUI'] = data['MACAddress'].str.replace(':', '').str[:6]"
   ]
  },
  {
   "cell_type": "code",
   "execution_count": 13,
   "id": "ce5c2c14",
   "metadata": {
    "execution": {
     "iopub.execute_input": "2024-05-24T14:17:43.089124Z",
     "iopub.status.busy": "2024-05-24T14:17:43.088678Z",
     "iopub.status.idle": "2024-05-24T14:17:43.100634Z",
     "shell.execute_reply": "2024-05-24T14:17:43.099424Z"
    },
    "papermill": {
     "duration": 0.02597,
     "end_time": "2024-05-24T14:17:43.103210",
     "exception": false,
     "start_time": "2024-05-24T14:17:43.077240",
     "status": "completed"
    },
    "tags": []
   },
   "outputs": [],
   "source": [
    "mac_address_counts = data['MACAddress'].value_counts()\n",
    "data['MACAddress_Frequency'] = data['MACAddress'].map(mac_address_counts)\n"
   ]
  },
  {
   "cell_type": "code",
   "execution_count": 14,
   "id": "f1f27f87",
   "metadata": {
    "execution": {
     "iopub.execute_input": "2024-05-24T14:17:43.126281Z",
     "iopub.status.busy": "2024-05-24T14:17:43.123955Z",
     "iopub.status.idle": "2024-05-24T14:17:43.132625Z",
     "shell.execute_reply": "2024-05-24T14:17:43.131412Z"
    },
    "papermill": {
     "duration": 0.022317,
     "end_time": "2024-05-24T14:17:43.135006",
     "exception": false,
     "start_time": "2024-05-24T14:17:43.112689",
     "status": "completed"
    },
    "tags": []
   },
   "outputs": [
    {
     "name": "stdout",
     "output_type": "stream",
     "text": [
      "['Rucks Wir' 'Innovix Networks' 'NetPulse Solutions' 'Mojo s' 'NovaCom'\n",
      " 'TechSync Inc.' 'Cambium S' 'DataFusion Technologies' 'CyberNex Corp'\n",
      " 'LinkWave Systems' 'ShieldCom Systems' 'Arista' 'Ruckus Wir'\n",
      " 'Cisco Systems, Inc' 'Apple, Inc' 'Microsoft Corporation'\n",
      " 'Intel Corporation' 'TP-Link Technologies Co., Ltd'\n",
      " 'ASUS TeK Computer Inc' 'Samsung Electronics Co.,Ltd' 'Netgear Inc'\n",
      " 'Huawei Technologies Co., Ltd' 'D-Link Corporation'\n",
      " 'Belkin International, Inc' 'Sony Corporation'\n",
      " 'Xiaomi Communications Co Ltd' 'LG Electronics'\n",
      " 'Amazon Technologies Inc.']\n",
      "object\n"
     ]
    }
   ],
   "source": [
    "print(data['Manufacturer'].unique())\n",
    "print(data['Manufacturer'].dtype)"
   ]
  },
  {
   "cell_type": "code",
   "execution_count": 15,
   "id": "bb01f311",
   "metadata": {
    "execution": {
     "iopub.execute_input": "2024-05-24T14:17:43.156595Z",
     "iopub.status.busy": "2024-05-24T14:17:43.156168Z",
     "iopub.status.idle": "2024-05-24T14:17:43.165550Z",
     "shell.execute_reply": "2024-05-24T14:17:43.164277Z"
    },
    "papermill": {
     "duration": 0.022911,
     "end_time": "2024-05-24T14:17:43.168147",
     "exception": false,
     "start_time": "2024-05-24T14:17:43.145236",
     "status": "completed"
    },
    "tags": []
   },
   "outputs": [],
   "source": [
    "data['IsWhitelisted'] = data['Manufacturer'].str.lower().isin(whitelist_companies).astype(int)"
   ]
  },
  {
   "cell_type": "code",
   "execution_count": 16,
   "id": "9f8bd8aa",
   "metadata": {
    "execution": {
     "iopub.execute_input": "2024-05-24T14:17:43.189697Z",
     "iopub.status.busy": "2024-05-24T14:17:43.188806Z",
     "iopub.status.idle": "2024-05-24T14:17:43.194849Z",
     "shell.execute_reply": "2024-05-24T14:17:43.193993Z"
    },
    "papermill": {
     "duration": 0.019372,
     "end_time": "2024-05-24T14:17:43.197176",
     "exception": false,
     "start_time": "2024-05-24T14:17:43.177804",
     "status": "completed"
    },
    "tags": []
   },
   "outputs": [],
   "source": [
    "X = data[['SSID', 'IsWhitelisted']]\n",
    "y = data['Label']"
   ]
  },
  {
   "cell_type": "code",
   "execution_count": 17,
   "id": "2fece656",
   "metadata": {
    "execution": {
     "iopub.execute_input": "2024-05-24T14:17:43.218286Z",
     "iopub.status.busy": "2024-05-24T14:17:43.217528Z",
     "iopub.status.idle": "2024-05-24T14:17:43.758114Z",
     "shell.execute_reply": "2024-05-24T14:17:43.757028Z"
    },
    "papermill": {
     "duration": 0.554492,
     "end_time": "2024-05-24T14:17:43.761238",
     "exception": false,
     "start_time": "2024-05-24T14:17:43.206746",
     "status": "completed"
    },
    "tags": []
   },
   "outputs": [],
   "source": [
    "from sklearn.model_selection import train_test_split,GridSearchCV\n",
    "from sklearn.ensemble import RandomForestClassifier\n",
    "from sklearn.metrics import accuracy_score,classification_report"
   ]
  },
  {
   "cell_type": "code",
   "execution_count": 18,
   "id": "1013537e",
   "metadata": {
    "execution": {
     "iopub.execute_input": "2024-05-24T14:17:43.783650Z",
     "iopub.status.busy": "2024-05-24T14:17:43.783275Z",
     "iopub.status.idle": "2024-05-24T14:17:43.791585Z",
     "shell.execute_reply": "2024-05-24T14:17:43.790759Z"
    },
    "papermill": {
     "duration": 0.022073,
     "end_time": "2024-05-24T14:17:43.793884",
     "exception": false,
     "start_time": "2024-05-24T14:17:43.771811",
     "status": "completed"
    },
    "tags": []
   },
   "outputs": [],
   "source": [
    "X_train, X_test, y_train, y_test = train_test_split(X, y, test_size=0.3, random_state=42)"
   ]
  },
  {
   "cell_type": "code",
   "execution_count": 19,
   "id": "29c715b2",
   "metadata": {
    "execution": {
     "iopub.execute_input": "2024-05-24T14:17:43.815026Z",
     "iopub.status.busy": "2024-05-24T14:17:43.814292Z",
     "iopub.status.idle": "2024-05-24T14:17:43.829280Z",
     "shell.execute_reply": "2024-05-24T14:17:43.828032Z"
    },
    "papermill": {
     "duration": 0.028347,
     "end_time": "2024-05-24T14:17:43.831716",
     "exception": false,
     "start_time": "2024-05-24T14:17:43.803369",
     "status": "completed"
    },
    "tags": []
   },
   "outputs": [
    {
     "name": "stdout",
     "output_type": "stream",
     "text": [
      "Accuracy: 0.9111111111111111\n"
     ]
    }
   ],
   "source": [
    "from sklearn.svm import SVC\n",
    "from sklearn.metrics import accuracy_score\n",
    "model = SVC(kernel='poly', C=1.0,probability=True,random_state=42)\n",
    "model.fit(X_train, y_train)\n",
    "predictions4 = model.predict(X_test)\n",
    "accuracy = accuracy_score(y_test, predictions4)\n",
    "print(\"Accuracy:\", accuracy)"
   ]
  },
  {
   "cell_type": "code",
   "execution_count": 20,
   "id": "00e59b75",
   "metadata": {
    "execution": {
     "iopub.execute_input": "2024-05-24T14:17:43.852919Z",
     "iopub.status.busy": "2024-05-24T14:17:43.852524Z",
     "iopub.status.idle": "2024-05-24T14:17:43.868439Z",
     "shell.execute_reply": "2024-05-24T14:17:43.867101Z"
    },
    "papermill": {
     "duration": 0.030013,
     "end_time": "2024-05-24T14:17:43.871274",
     "exception": false,
     "start_time": "2024-05-24T14:17:43.841261",
     "status": "completed"
    },
    "tags": []
   },
   "outputs": [
    {
     "name": "stdout",
     "output_type": "stream",
     "text": [
      "Classification Report:\n",
      "              precision    recall  f1-score   support\n",
      "\n",
      "           0       1.00      0.64      0.78        11\n",
      "           1       0.89      1.00      0.94        34\n",
      "\n",
      "    accuracy                           0.91        45\n",
      "   macro avg       0.95      0.82      0.86        45\n",
      "weighted avg       0.92      0.91      0.90        45\n",
      "\n"
     ]
    }
   ],
   "source": [
    "print(\"Classification Report:\")\n",
    "print(classification_report(y_test, predictions4))"
   ]
  },
  {
   "cell_type": "code",
   "execution_count": 21,
   "id": "408784c1",
   "metadata": {
    "execution": {
     "iopub.execute_input": "2024-05-24T14:17:43.892469Z",
     "iopub.status.busy": "2024-05-24T14:17:43.892050Z",
     "iopub.status.idle": "2024-05-24T14:18:00.722823Z",
     "shell.execute_reply": "2024-05-24T14:18:00.721723Z"
    },
    "papermill": {
     "duration": 16.844866,
     "end_time": "2024-05-24T14:18:00.725884",
     "exception": false,
     "start_time": "2024-05-24T14:17:43.881018",
     "status": "completed"
    },
    "tags": []
   },
   "outputs": [
    {
     "name": "stdout",
     "output_type": "stream",
     "text": [
      "Fitting 10 folds for each of 27 candidates, totalling 270 fits\n",
      "Best parameters found by GridSearchCV:\n",
      "{'learning_rate': 0.01, 'max_depth': 3, 'n_estimators': 100}\n",
      "Accuracy: 0.9333333333333333\n",
      "Classification Report:\n",
      "              precision    recall  f1-score   support\n",
      "\n",
      "           0       1.00      0.73      0.84        11\n",
      "           1       0.92      1.00      0.96        34\n",
      "\n",
      "    accuracy                           0.93        45\n",
      "   macro avg       0.96      0.86      0.90        45\n",
      "weighted avg       0.94      0.93      0.93        45\n",
      "\n"
     ]
    }
   ],
   "source": [
    "from xgboost import XGBClassifier\n",
    "model = XGBClassifier()\n",
    "param_grid = {\n",
    "    'n_estimators': [100, 200, 300],\n",
    "    'max_depth': [3, 5, 7],\n",
    "    'learning_rate': [0.01, 0.1, 0.2]\n",
    "}\n",
    "\n",
    "grid_search = GridSearchCV(estimator=model, param_grid=param_grid, cv=10, scoring='accuracy', verbose=1)\n",
    "grid_search.fit(X_train, y_train)\n",
    "\n",
    "\n",
    "print(\"Best parameters found by GridSearchCV:\")\n",
    "print(grid_search.best_params_)\n",
    "best_model = grid_search.best_estimator_\n",
    "y_pred = best_model.predict(X_test)\n",
    "accuracy = accuracy_score(y_test, y_pred)\n",
    "print(\"Accuracy:\", accuracy)\n",
    "\n",
    "print(\"Classification Report:\")\n",
    "print(classification_report(y_test, y_pred))"
   ]
  },
  {
   "cell_type": "code",
   "execution_count": 22,
   "id": "73be8333",
   "metadata": {
    "execution": {
     "iopub.execute_input": "2024-05-24T14:18:00.749934Z",
     "iopub.status.busy": "2024-05-24T14:18:00.749504Z",
     "iopub.status.idle": "2024-05-24T14:18:00.839853Z",
     "shell.execute_reply": "2024-05-24T14:18:00.838920Z"
    },
    "papermill": {
     "duration": 0.105433,
     "end_time": "2024-05-24T14:18:00.843105",
     "exception": false,
     "start_time": "2024-05-24T14:18:00.737672",
     "status": "completed"
    },
    "tags": []
   },
   "outputs": [
    {
     "name": "stdout",
     "output_type": "stream",
     "text": [
      "Hard Voting Accuracy: 0.9333333333333333\n",
      "Hard Voting Classification Report:\n",
      "              precision    recall  f1-score   support\n",
      "\n",
      "           0       1.00      0.73      0.84        11\n",
      "           1       0.92      1.00      0.96        34\n",
      "\n",
      "    accuracy                           0.93        45\n",
      "   macro avg       0.96      0.86      0.90        45\n",
      "weighted avg       0.94      0.93      0.93        45\n",
      "\n"
     ]
    }
   ],
   "source": [
    "from sklearn.ensemble import VotingClassifier\n",
    "voting_model_hard = VotingClassifier(estimators=[('Xgboost', best_model), ('Svm', model)], voting='hard')\n",
    "\n",
    "voting_model_hard.fit(X_train, y_train)\n",
    "\n",
    "# Make predictions\n",
    "y_pred_hard = voting_model_hard.predict(X_test)\n",
    "\n",
    "# Evaluate the models\n",
    "accuracy_hard = accuracy_score(y_test, y_pred_hard)\n",
    "\n",
    "\n",
    "print(\"Hard Voting Accuracy:\", accuracy_hard)\n",
    "\n",
    "print(\"Hard Voting Classification Report:\")\n",
    "print(classification_report(y_test, y_pred_hard))\n"
   ]
  },
  {
   "cell_type": "code",
   "execution_count": null,
   "id": "b283ff9a",
   "metadata": {
    "papermill": {
     "duration": 0.010101,
     "end_time": "2024-05-24T14:18:00.863338",
     "exception": false,
     "start_time": "2024-05-24T14:18:00.853237",
     "status": "completed"
    },
    "tags": []
   },
   "outputs": [],
   "source": []
  }
 ],
 "metadata": {
  "kaggle": {
   "accelerator": "none",
   "dataSources": [
    {
     "datasetId": 4593883,
     "sourceId": 7836986,
     "sourceType": "datasetVersion"
    }
   ],
   "dockerImageVersionId": 30664,
   "isGpuEnabled": false,
   "isInternetEnabled": true,
   "language": "python",
   "sourceType": "notebook"
  },
  "kernelspec": {
   "display_name": "Python 3",
   "language": "python",
   "name": "python3"
  },
  "language_info": {
   "codemirror_mode": {
    "name": "ipython",
    "version": 3
   },
   "file_extension": ".py",
   "mimetype": "text/x-python",
   "name": "python",
   "nbconvert_exporter": "python",
   "pygments_lexer": "ipython3",
   "version": "3.10.13"
  },
  "papermill": {
   "default_parameters": {},
   "duration": 24.906207,
   "end_time": "2024-05-24T14:18:01.595724",
   "environment_variables": {},
   "exception": null,
   "input_path": "__notebook__.ipynb",
   "output_path": "__notebook__.ipynb",
   "parameters": {},
   "start_time": "2024-05-24T14:17:36.689517",
   "version": "2.5.0"
  }
 },
 "nbformat": 4,
 "nbformat_minor": 5
}
